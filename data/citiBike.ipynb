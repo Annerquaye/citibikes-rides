{
  "nbformat": 4,
  "nbformat_minor": 0,
  "metadata": {
    "colab": {
      "name": "citiBike.ipynb",
      "provenance": [],
      "collapsed_sections": [],
      "private_outputs": true
    },
    "kernelspec": {
      "name": "python3",
      "display_name": "Python 3"
    },
    "language_info": {
      "name": "python"
    }
  },
  "cells": [
    {
      "cell_type": "code",
      "source": [
        "import pandas as pd\n",
        "import numpy as np\n",
        "import altair as alt\n",
        "from zipfile import ZipFile\n",
        "import requests\n",
        "import io\n"
      ],
      "metadata": {
        "id": "rQXvyhGRUxEF"
      },
      "execution_count": null,
      "outputs": []
    },
    {
      "cell_type": "code",
      "source": [
        ""
      ],
      "metadata": {
        "id": "9RN1Gvn8Uw50"
      },
      "execution_count": null,
      "outputs": []
    },
    {
      "cell_type": "code",
      "source": [
        "# Loading files for September 2020 amd September 2021\n",
        "\n",
        "citi2020 = pd.read_csv('https://s3.amazonaws.com/tripdata/202009-citibike-tripdata.csv.zip')"
      ],
      "metadata": {
        "id": "AvwLouOnUuDA"
      },
      "execution_count": null,
      "outputs": []
    },
    {
      "cell_type": "markdown",
      "source": [
        "\n",
        "Opening 2021 file. This method is used to unpack the zip because it has more than a single csv.\n"
      ],
      "metadata": {
        "id": "X1fwpRlbnwkK"
      }
    },
    {
      "cell_type": "code",
      "source": [
        "# Here we are getting the zip file\n",
        "citibikeZipFile = requests.get('https://s3.amazonaws.com/tripdata/202109-citibike-tripdata.csv.zip')\n",
        "\n",
        "# Here we are uncompressing it and reading the whole package into a variable\n",
        "zipFiles = ZipFile(io.BytesIO(citibikeZipFile.content))\n",
        "\n",
        "# And here we are looping through the package and printing the names of the files\n",
        "for name in zipFiles.namelist():\n",
        "  print(name)\n",
        "\n",
        "# Finally, we can take that loaded uncopressed package and use it to just load one file to the Pandas dataframe:\n",
        "citi2021 = pd.read_csv(zipFiles.open('202109-citibike-tripdata.csv'))"
      ],
      "metadata": {
        "id": "SaGp0QRzlRTB"
      },
      "execution_count": null,
      "outputs": []
    },
    {
      "cell_type": "markdown",
      "source": [
        "Calculating the total number of trips for the two periods"
      ],
      "metadata": {
        "id": "a6Gb8RL0oPTq"
      }
    },
    {
      "cell_type": "code",
      "source": [
        "#2020\n",
        "#First we count the number of trip per station and sum the results. \n",
        "\n",
        "citibikeStations = citi2020.groupby(['start station id']).agg({'tripduration':'count'}).reset_index()\n",
        "#Changing the tripduration column into tripcount to reflect the trips taken\n",
        "citibikeStations.rename(columns={'tripduration':'tripCount'},inplace=True)\n",
        "#Total number of all trips\n",
        "print(\"There were\", citibikeStations.tripCount.sum(),\"trips in September 2020.\")"
      ],
      "metadata": {
        "id": "N8LyndJMoXYr"
      },
      "execution_count": null,
      "outputs": []
    },
    {
      "cell_type": "code",
      "source": [
        "#2021\n",
        "#First we count the number of trip per station and sum the results. \n",
        "\n",
        "citibikes21 = citi2021.groupby(['start_station_id']).agg({'started_at':'count'}).reset_index()\n",
        "#Changing the tripduration column into tripcount to reflect the trips taken\n",
        "citibikes21.rename(columns={'started_at':'tripCount'},inplace=True)\n",
        "#Total number of all trips\n",
        "print(\"There were\", citibikes21.tripCount.sum(),\"trips in September 2021.\")"
      ],
      "metadata": {
        "id": "wKqvDlVSpjp2"
      },
      "execution_count": null,
      "outputs": []
    },
    {
      "cell_type": "markdown",
      "source": [
        "Top 5 stations by number of trip starts\n"
      ],
      "metadata": {
        "id": "I_oQQKpltgxw"
      }
    },
    {
      "cell_type": "code",
      "source": [
        "#2020\n",
        "citi2020['start station name'].value_counts().head(5)\n"
      ],
      "metadata": {
        "id": "3xkV3BElYAgX"
      },
      "execution_count": null,
      "outputs": []
    },
    {
      "cell_type": "code",
      "source": [
        "#2021\n",
        "citi2021['start_station_name'].value_counts().head(5)"
      ],
      "metadata": {
        "id": "mR-8k4x2XI6u"
      },
      "execution_count": null,
      "outputs": []
    },
    {
      "cell_type": "markdown",
      "source": [
        "Top 5 stations by number of trip stops\n"
      ],
      "metadata": {
        "id": "kaVHQ-McvcKk"
      }
    },
    {
      "cell_type": "code",
      "source": [
        "#2020\n",
        "citi2020.groupby(['start station name']).agg({ 'stoptime':'count'}).sort_values(by='stoptime',ascending=False).reset_index().head()\n"
      ],
      "metadata": {
        "id": "COQPs0J5vbIh"
      },
      "execution_count": null,
      "outputs": []
    },
    {
      "cell_type": "code",
      "source": [
        "#2021\n",
        "citi2021.groupby(['start_station_name']).agg({ 'ended_at':'count'}).sort_values(by='ended_at',ascending=False).reset_index().head()\n"
      ],
      "metadata": {
        "id": "XES4VdrKWnfp"
      },
      "execution_count": null,
      "outputs": []
    },
    {
      "cell_type": "markdown",
      "source": [
        "Median number of starts"
      ],
      "metadata": {
        "id": "cdGCCpnzw5gm"
      }
    },
    {
      "cell_type": "code",
      "source": [
        "#2020\n",
        "citi2020.groupby(['start station name']).agg({ 'starttime':'count'}).median()"
      ],
      "metadata": {
        "id": "kjSSjnayXtnF"
      },
      "execution_count": null,
      "outputs": []
    },
    {
      "cell_type": "code",
      "source": [
        "#2021\n",
        "citi2021.groupby(['start_station_name']).agg({ 'started_at':'count'}).median()"
      ],
      "metadata": {
        "id": "cYAFAJidxElt"
      },
      "execution_count": null,
      "outputs": []
    },
    {
      "cell_type": "markdown",
      "source": [
        "Median number of stops"
      ],
      "metadata": {
        "id": "VMBqpDA8hcxA"
      }
    },
    {
      "cell_type": "code",
      "source": [
        "#2021\n",
        "citi2020.groupby(['end station name']).agg({ 'stoptime':'count'}).median()"
      ],
      "metadata": {
        "id": "WzY3zMmUcVi_"
      },
      "execution_count": null,
      "outputs": []
    },
    {
      "cell_type": "code",
      "source": [
        "#2021\n",
        "\n",
        "citi2021.groupby(['end_station_name']).agg({ 'ended_at':'count'}).median()"
      ],
      "metadata": {
        "id": "F4jva34zhLIc"
      },
      "execution_count": null,
      "outputs": []
    },
    {
      "cell_type": "code",
      "source": [
        "citi2020.head()"
      ],
      "metadata": {
        "id": "yH4ljbzdx2gf"
      },
      "execution_count": null,
      "outputs": []
    },
    {
      "cell_type": "code",
      "source": [
        "citi2021.columns"
      ],
      "metadata": {
        "id": "GD26L54gBdQM"
      },
      "execution_count": null,
      "outputs": []
    },
    {
      "cell_type": "code",
      "source": [
        "#Starts Geo 2020\n",
        "citiStartsGeo20 = citi2020.groupby(['start station name']).agg({'start station latitude':'min','start station longitude':'min', 'tripduration':'count'}).reset_index()"
      ],
      "metadata": {
        "id": "A9jfNn8lcbDe"
      },
      "execution_count": null,
      "outputs": []
    },
    {
      "cell_type": "code",
      "source": [
        "citiStartsGeo20.rename(columns={'tripduration':'tripCount'},inplace=True)"
      ],
      "metadata": {
        "id": "wi9G6Do2ixBz"
      },
      "execution_count": null,
      "outputs": []
    },
    {
      "cell_type": "code",
      "source": [
        "#Stops Geo 2020\n",
        "\n",
        "citiStopsGeo20 = citi2020.groupby(['end station name']).agg({'end station latitude':'min','end station longitude':'min', 'tripduration':'count'}).reset_index()"
      ],
      "metadata": {
        "id": "o2LevLT7eZgs"
      },
      "execution_count": null,
      "outputs": []
    },
    {
      "cell_type": "code",
      "source": [
        "citiStopsGeo20.rename(columns={'tripduration':'tripCount'},inplace=True)"
      ],
      "metadata": {
        "id": "PZOtR09cisw1"
      },
      "execution_count": null,
      "outputs": []
    },
    {
      "cell_type": "code",
      "source": [
        "#Starts Geo 2021\n",
        "citiStartsGeo21 = citi2021.groupby(['start_station_name']).agg({'start_lat':'min','start_lng':'min', 'start_station_id':'count'}).reset_index()"
      ],
      "metadata": {
        "id": "utNCzQSzgI-m"
      },
      "execution_count": null,
      "outputs": []
    },
    {
      "cell_type": "code",
      "source": [
        "citiStartsGeo20.rename(columns={'start_station_id':'tripCount'},inplace=True)"
      ],
      "metadata": {
        "id": "VLpJZLoXi22E"
      },
      "execution_count": null,
      "outputs": []
    },
    {
      "cell_type": "code",
      "source": [
        "#Stops Geo 2021\n",
        "citiStopsGeo21 = citi2021.groupby(['end_station_name']).agg({'end_lat':'min','end_lng':'min', 'end_station_id':'count'}).reset_index()"
      ],
      "metadata": {
        "id": "6mmRb8GYhTe6"
      },
      "execution_count": null,
      "outputs": []
    },
    {
      "cell_type": "code",
      "source": [
        "citiStopsGeo21.rename(columns={'end_station_id':'tripCount'},inplace=True)"
      ],
      "metadata": {
        "id": "aBaCq7zFip2z"
      },
      "execution_count": null,
      "outputs": []
    },
    {
      "cell_type": "code",
      "source": [
        "#Dropping unneccesary columns\n",
        "\n",
        "# citi2020.drop(columns={'tripduration', 'starttime', 'stoptime', 'bikeid', 'usertype', 'birth year', 'gender','end station id'})"
      ],
      "metadata": {
        "id": "Gzhd8ITnBT_7"
      },
      "execution_count": null,
      "outputs": []
    },
    {
      "cell_type": "code",
      "source": [
        "!pip install geopandas"
      ],
      "metadata": {
        "id": "9TCbin0aDGs9"
      },
      "execution_count": null,
      "outputs": []
    },
    {
      "cell_type": "code",
      "source": [
        "import geopandas as gpd"
      ],
      "metadata": {
        "id": "086j8VFK1szl"
      },
      "execution_count": null,
      "outputs": []
    },
    {
      "cell_type": "code",
      "source": [
        "#Starts Geo 2020\n",
        "citiStartsGeo20 = gpd.GeoDataFrame(data=citiStartsGeo20, geometry=gpd.points_from_xy(x=citiStartsGeo20['start station longitude'], y=citiStartsGeo20['start station latitude']), crs='epsg:4326')"
      ],
      "metadata": {
        "id": "tK-VX_q91Mte"
      },
      "execution_count": null,
      "outputs": []
    },
    {
      "cell_type": "code",
      "source": [
        "#Stops Geo 2020\n",
        "citiStopsGeo20 = gpd.GeoDataFrame(data=citiStopsGeo20, geometry=gpd.points_from_xy(x=citiStopsGeo20['end station longitude'], y=citiStopsGeo20['end station latitude']), crs='epsg:4326')"
      ],
      "metadata": {
        "id": "pl6fdNh699Qb"
      },
      "execution_count": null,
      "outputs": []
    },
    {
      "cell_type": "code",
      "source": [
        "#Starts Geo 2021\n",
        "\n",
        "citiGeoStarts21 = gpd.GeoDataFrame(data=citiStartsGeo21, geometry=gpd.points_from_xy(x=citiStartsGeo21['start_lng'], y=citiStartsGeo21['start_lat']), crs='epsg:4326')\n"
      ],
      "metadata": {
        "id": "_kAsTaqukEbe"
      },
      "execution_count": null,
      "outputs": []
    },
    {
      "cell_type": "code",
      "source": [
        "citiStopsGeo21.columns"
      ],
      "metadata": {
        "id": "cEGT76IEm2lR"
      },
      "execution_count": null,
      "outputs": []
    },
    {
      "cell_type": "code",
      "source": [
        "#Stops Geo 2021\n",
        "citiGeoStops21 = gpd.GeoDataFrame(data=citiStopsGeo21, geometry=gpd.points_from_xy(x=citiStopsGeo21['end_lng'], y=citiStopsGeo21['end_lat']), crs='epsg:4326')\n"
      ],
      "metadata": {
        "id": "WcdFCqTj-TBe"
      },
      "execution_count": null,
      "outputs": []
    },
    {
      "cell_type": "code",
      "source": [
        "#Starts Geo 2020\n",
        "citiStartsGeo20.to_file(\"citiStartsGeo20.geojson\", driver='GeoJSON')\n"
      ],
      "metadata": {
        "id": "YAN-_P2I_2NQ"
      },
      "execution_count": null,
      "outputs": []
    },
    {
      "cell_type": "code",
      "source": [
        "citiStartsGeo20.to_file(\"citiStartsGeo20.geojson\", driver='GeoJSON')\n",
        "citiStopsGeo20.to_file(\"citiStopsGeo20.geojson\", driver='GeoJSON')\n",
        "citiGeoStarts21.to_file(\"citiGeoStarts21.geojson\", driver='GeoJSON')\n",
        "citiGeoStops21.to_file(\"citiGeoStops21.geojson\", driver='GeoJSON')\n",
        "\n",
        "\n",
        "\n",
        "\n",
        "\n"
      ],
      "metadata": {
        "id": "eePZO6CE2Z9I"
      },
      "execution_count": null,
      "outputs": []
    },
    {
      "cell_type": "code",
      "source": [
        "citiGeo = gpd.GeoDataFrame(data=citi2020, geometry=gpd.points_from_xy(x=citi2020['start_lng'], y=citi2020['start station latitude']), crs='epsg:4326')"
      ],
      "metadata": {
        "id": "spca5dsk17gv"
      },
      "execution_count": null,
      "outputs": []
    }
  ]
}